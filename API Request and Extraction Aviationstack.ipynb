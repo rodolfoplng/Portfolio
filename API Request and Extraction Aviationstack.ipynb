{
 "cells": [
  {
   "cell_type": "markdown",
   "id": "1a4336cf-5bf0-4c52-9eaf-9bf777716884",
   "metadata": {},
   "source": [
    "# API Request and Extraction from Aviationstack"
   ]
  },
  {
   "cell_type": "markdown",
   "id": "beec4e66-ed09-4f6c-87d0-b3be0fd93294",
   "metadata": {},
   "source": [
    "## Project Overview\n",
    "\n",
    "This notebook demonstrates the workflow of extracting Rio de Janeiro International Airport departures data from the **Aviationstack API**, normalizing and transforming the nested JSON response using **Pandas**, and applying data cleaning and enrichment steps (such as handling null values, codeshare mapping, and datetime formatting). Finally, the processed dataset is loaded into a CSV file for further analysis and use in subsequent applications or databases.  For a ETL pipeline using Cron Job, take a look at [Aviationstack API ETL with Daily Cron Job](https://github.com/rodolfoplng/Portfolio/blob/main/Aviationstack%20ETL%20Cron.md)  For a full ETL pipeline using Apache Airflow, take a look at [Airflow DAG for API ETL](https://github.com/rodolfoplng/Airflow-DAG-for-API-ETL-Process)"
   ]
  },
  {
   "cell_type": "markdown",
   "id": "693b3d7e-03c8-4ef2-b7ce-889f6d0cc322",
   "metadata": {},
   "source": [
    "### API Request and Data Extraction"
   ]
  },
  {
   "cell_type": "code",
   "execution_count": 1,
   "id": "bf2bba2f-d4f3-4892-b6c5-73dd6f7b1140",
   "metadata": {},
   "outputs": [
    {
     "name": "stdout",
     "output_type": "stream",
     "text": [
      "Status code: 200\n"
     ]
    }
   ],
   "source": [
    "import requests\n",
    "\n",
    "params = {\n",
    "    'access_key': 'your_key_here', # Insert your API key\n",
    "    'dep_iata' : 'GIG', # Rio de Janeiro International Airport (Galeão)\n",
    "}\n",
    "\n",
    "response = requests.get('https://api.aviationstack.com/v1/flights', params=params)\n",
    "\n",
    "# Show the request status code\n",
    "print(\"Status code:\", response.status_code)"
   ]
  },
  {
   "cell_type": "code",
   "execution_count": 2,
   "id": "38b34c2f-514d-493f-a3e1-e83e12bbd531",
   "metadata": {},
   "outputs": [],
   "source": [
    "#\n",
    "try:\n",
    "    data = response.json()\n",
    "    #print(\"API Response:\", data)\n",
    "except Exception as e:\n",
    "    print(\"Error trying to read JSON:\", e)"
   ]
  },
  {
   "cell_type": "code",
   "execution_count": 3,
   "id": "a1972310-0e05-46e7-94fa-5a4238fe74bc",
   "metadata": {},
   "outputs": [
    {
     "data": {
      "text/plain": [
       "dict_keys(['pagination', 'data'])"
      ]
     },
     "execution_count": 3,
     "metadata": {},
     "output_type": "execute_result"
    }
   ],
   "source": [
    "data.keys()"
   ]
  },
  {
   "cell_type": "code",
   "execution_count": 4,
   "id": "299e20d9-779f-4e57-83a5-e5bf830dd2b7",
   "metadata": {},
   "outputs": [
    {
     "data": {
      "text/html": [
       "<div>\n",
       "<style scoped>\n",
       "    .dataframe tbody tr th:only-of-type {\n",
       "        vertical-align: middle;\n",
       "    }\n",
       "\n",
       "    .dataframe tbody tr th {\n",
       "        vertical-align: top;\n",
       "    }\n",
       "\n",
       "    .dataframe thead th {\n",
       "        text-align: right;\n",
       "    }\n",
       "</style>\n",
       "<table border=\"1\" class=\"dataframe\">\n",
       "  <thead>\n",
       "    <tr style=\"text-align: right;\">\n",
       "      <th></th>\n",
       "      <th>flight_date</th>\n",
       "      <th>flight_status</th>\n",
       "      <th>aircraft</th>\n",
       "      <th>live</th>\n",
       "      <th>departure.airport</th>\n",
       "      <th>departure.timezone</th>\n",
       "      <th>departure.iata</th>\n",
       "      <th>departure.icao</th>\n",
       "      <th>departure.terminal</th>\n",
       "      <th>departure.gate</th>\n",
       "      <th>...</th>\n",
       "      <th>flight.number</th>\n",
       "      <th>flight.iata</th>\n",
       "      <th>flight.icao</th>\n",
       "      <th>flight.codeshared.airline_name</th>\n",
       "      <th>flight.codeshared.airline_iata</th>\n",
       "      <th>flight.codeshared.airline_icao</th>\n",
       "      <th>flight.codeshared.flight_number</th>\n",
       "      <th>flight.codeshared.flight_iata</th>\n",
       "      <th>flight.codeshared.flight_icao</th>\n",
       "      <th>flight.codeshared</th>\n",
       "    </tr>\n",
       "  </thead>\n",
       "  <tbody>\n",
       "    <tr>\n",
       "      <th>0</th>\n",
       "      <td>2025-09-15</td>\n",
       "      <td>active</td>\n",
       "      <td>None</td>\n",
       "      <td>None</td>\n",
       "      <td>Galeao Antonio Carlos Jobim</td>\n",
       "      <td>America/Sao_Paulo</td>\n",
       "      <td>GIG</td>\n",
       "      <td>SBGL</td>\n",
       "      <td>2</td>\n",
       "      <td>B43</td>\n",
       "      <td>...</td>\n",
       "      <td>4233</td>\n",
       "      <td>TP4233</td>\n",
       "      <td>TAP4233</td>\n",
       "      <td>gol</td>\n",
       "      <td>g3</td>\n",
       "      <td>glo</td>\n",
       "      <td>2014</td>\n",
       "      <td>g32014</td>\n",
       "      <td>glo2014</td>\n",
       "      <td>NaN</td>\n",
       "    </tr>\n",
       "    <tr>\n",
       "      <th>1</th>\n",
       "      <td>2025-09-15</td>\n",
       "      <td>active</td>\n",
       "      <td>None</td>\n",
       "      <td>None</td>\n",
       "      <td>Galeao Antonio Carlos Jobim</td>\n",
       "      <td>America/Sao_Paulo</td>\n",
       "      <td>GIG</td>\n",
       "      <td>SBGL</td>\n",
       "      <td>2</td>\n",
       "      <td>B43</td>\n",
       "      <td>...</td>\n",
       "      <td>2014</td>\n",
       "      <td>G32014</td>\n",
       "      <td>GLO2014</td>\n",
       "      <td>NaN</td>\n",
       "      <td>NaN</td>\n",
       "      <td>NaN</td>\n",
       "      <td>NaN</td>\n",
       "      <td>NaN</td>\n",
       "      <td>NaN</td>\n",
       "      <td>NaN</td>\n",
       "    </tr>\n",
       "    <tr>\n",
       "      <th>2</th>\n",
       "      <td>2025-09-15</td>\n",
       "      <td>active</td>\n",
       "      <td>None</td>\n",
       "      <td>None</td>\n",
       "      <td>Galeao Antonio Carlos Jobim</td>\n",
       "      <td>America/Sao_Paulo</td>\n",
       "      <td>GIG</td>\n",
       "      <td>SBGL</td>\n",
       "      <td>1</td>\n",
       "      <td>A22</td>\n",
       "      <td>...</td>\n",
       "      <td>7570</td>\n",
       "      <td>AR7570</td>\n",
       "      <td>ARG7570</td>\n",
       "      <td>gol</td>\n",
       "      <td>g3</td>\n",
       "      <td>glo</td>\n",
       "      <td>2046</td>\n",
       "      <td>g32046</td>\n",
       "      <td>glo2046</td>\n",
       "      <td>NaN</td>\n",
       "    </tr>\n",
       "    <tr>\n",
       "      <th>3</th>\n",
       "      <td>2025-09-15</td>\n",
       "      <td>active</td>\n",
       "      <td>None</td>\n",
       "      <td>None</td>\n",
       "      <td>Galeao Antonio Carlos Jobim</td>\n",
       "      <td>America/Sao_Paulo</td>\n",
       "      <td>GIG</td>\n",
       "      <td>SBGL</td>\n",
       "      <td>1</td>\n",
       "      <td>A22</td>\n",
       "      <td>...</td>\n",
       "      <td>3715</td>\n",
       "      <td>EK3715</td>\n",
       "      <td>UAE3715</td>\n",
       "      <td>gol</td>\n",
       "      <td>g3</td>\n",
       "      <td>glo</td>\n",
       "      <td>2046</td>\n",
       "      <td>g32046</td>\n",
       "      <td>glo2046</td>\n",
       "      <td>NaN</td>\n",
       "    </tr>\n",
       "    <tr>\n",
       "      <th>4</th>\n",
       "      <td>2025-09-15</td>\n",
       "      <td>active</td>\n",
       "      <td>None</td>\n",
       "      <td>None</td>\n",
       "      <td>Galeao Antonio Carlos Jobim</td>\n",
       "      <td>America/Sao_Paulo</td>\n",
       "      <td>GIG</td>\n",
       "      <td>SBGL</td>\n",
       "      <td>1</td>\n",
       "      <td>A22</td>\n",
       "      <td>...</td>\n",
       "      <td>4047</td>\n",
       "      <td>TP4047</td>\n",
       "      <td>TAP4047</td>\n",
       "      <td>gol</td>\n",
       "      <td>g3</td>\n",
       "      <td>glo</td>\n",
       "      <td>2046</td>\n",
       "      <td>g32046</td>\n",
       "      <td>glo2046</td>\n",
       "      <td>NaN</td>\n",
       "    </tr>\n",
       "  </tbody>\n",
       "</table>\n",
       "<p>5 rows × 42 columns</p>\n",
       "</div>"
      ],
      "text/plain": [
       "  flight_date flight_status aircraft  live            departure.airport  \\\n",
       "0  2025-09-15        active     None  None  Galeao Antonio Carlos Jobim   \n",
       "1  2025-09-15        active     None  None  Galeao Antonio Carlos Jobim   \n",
       "2  2025-09-15        active     None  None  Galeao Antonio Carlos Jobim   \n",
       "3  2025-09-15        active     None  None  Galeao Antonio Carlos Jobim   \n",
       "4  2025-09-15        active     None  None  Galeao Antonio Carlos Jobim   \n",
       "\n",
       "  departure.timezone departure.iata departure.icao departure.terminal  \\\n",
       "0  America/Sao_Paulo            GIG           SBGL                  2   \n",
       "1  America/Sao_Paulo            GIG           SBGL                  2   \n",
       "2  America/Sao_Paulo            GIG           SBGL                  1   \n",
       "3  America/Sao_Paulo            GIG           SBGL                  1   \n",
       "4  America/Sao_Paulo            GIG           SBGL                  1   \n",
       "\n",
       "  departure.gate  ...  flight.number flight.iata flight.icao  \\\n",
       "0            B43  ...           4233      TP4233     TAP4233   \n",
       "1            B43  ...           2014      G32014     GLO2014   \n",
       "2            A22  ...           7570      AR7570     ARG7570   \n",
       "3            A22  ...           3715      EK3715     UAE3715   \n",
       "4            A22  ...           4047      TP4047     TAP4047   \n",
       "\n",
       "  flight.codeshared.airline_name flight.codeshared.airline_iata  \\\n",
       "0                            gol                             g3   \n",
       "1                            NaN                            NaN   \n",
       "2                            gol                             g3   \n",
       "3                            gol                             g3   \n",
       "4                            gol                             g3   \n",
       "\n",
       "  flight.codeshared.airline_icao flight.codeshared.flight_number  \\\n",
       "0                            glo                            2014   \n",
       "1                            NaN                             NaN   \n",
       "2                            glo                            2046   \n",
       "3                            glo                            2046   \n",
       "4                            glo                            2046   \n",
       "\n",
       "  flight.codeshared.flight_iata flight.codeshared.flight_icao  \\\n",
       "0                        g32014                       glo2014   \n",
       "1                           NaN                           NaN   \n",
       "2                        g32046                       glo2046   \n",
       "3                        g32046                       glo2046   \n",
       "4                        g32046                       glo2046   \n",
       "\n",
       "  flight.codeshared  \n",
       "0               NaN  \n",
       "1               NaN  \n",
       "2               NaN  \n",
       "3               NaN  \n",
       "4               NaN  \n",
       "\n",
       "[5 rows x 42 columns]"
      ]
     },
     "execution_count": 4,
     "metadata": {},
     "output_type": "execute_result"
    }
   ],
   "source": [
    "from pandas import json_normalize\n",
    "\n",
    "# Flatten all nested fields at any depth\n",
    "df = json_normalize(data['data'])\n",
    "\n",
    "df.head()"
   ]
  },
  {
   "cell_type": "markdown",
   "id": "b5efd7a7-5d5f-4322-bc92-cf03107a5993",
   "metadata": {},
   "source": [
    "### Data Cleaning and Processing"
   ]
  },
  {
   "cell_type": "code",
   "execution_count": 5,
   "id": "2c223c45-8138-4bb4-a41d-ec19ca55e122",
   "metadata": {},
   "outputs": [
    {
     "name": "stdout",
     "output_type": "stream",
     "text": [
      "<class 'pandas.core.frame.DataFrame'>\n",
      "RangeIndex: 100 entries, 0 to 99\n",
      "Data columns (total 42 columns):\n",
      " #   Column                           Non-Null Count  Dtype  \n",
      "---  ------                           --------------  -----  \n",
      " 0   flight_date                      100 non-null    object \n",
      " 1   flight_status                    100 non-null    object \n",
      " 2   aircraft                         0 non-null      object \n",
      " 3   live                             0 non-null      object \n",
      " 4   departure.airport                100 non-null    object \n",
      " 5   departure.timezone               100 non-null    object \n",
      " 6   departure.iata                   100 non-null    object \n",
      " 7   departure.icao                   100 non-null    object \n",
      " 8   departure.terminal               100 non-null    object \n",
      " 9   departure.gate                   100 non-null    object \n",
      " 10  departure.delay                  47 non-null     float64\n",
      " 11  departure.scheduled              100 non-null    object \n",
      " 12  departure.estimated              100 non-null    object \n",
      " 13  departure.actual                 31 non-null     object \n",
      " 14  departure.estimated_runway       31 non-null     object \n",
      " 15  departure.actual_runway          31 non-null     object \n",
      " 16  arrival.airport                  100 non-null    object \n",
      " 17  arrival.timezone                 100 non-null    object \n",
      " 18  arrival.iata                     100 non-null    object \n",
      " 19  arrival.icao                     100 non-null    object \n",
      " 20  arrival.terminal                 53 non-null     object \n",
      " 21  arrival.gate                     28 non-null     object \n",
      " 22  arrival.baggage                  10 non-null     object \n",
      " 23  arrival.scheduled                100 non-null    object \n",
      " 24  arrival.delay                    3 non-null      float64\n",
      " 25  arrival.estimated                28 non-null     object \n",
      " 26  arrival.actual                   26 non-null     object \n",
      " 27  arrival.estimated_runway         26 non-null     object \n",
      " 28  arrival.actual_runway            26 non-null     object \n",
      " 29  airline.name                     100 non-null    object \n",
      " 30  airline.iata                     100 non-null    object \n",
      " 31  airline.icao                     100 non-null    object \n",
      " 32  flight.number                    100 non-null    object \n",
      " 33  flight.iata                      100 non-null    object \n",
      " 34  flight.icao                      100 non-null    object \n",
      " 35  flight.codeshared.airline_name   48 non-null     object \n",
      " 36  flight.codeshared.airline_iata   48 non-null     object \n",
      " 37  flight.codeshared.airline_icao   48 non-null     object \n",
      " 38  flight.codeshared.flight_number  48 non-null     object \n",
      " 39  flight.codeshared.flight_iata    48 non-null     object \n",
      " 40  flight.codeshared.flight_icao    48 non-null     object \n",
      " 41  flight.codeshared                0 non-null      float64\n",
      "dtypes: float64(3), object(39)\n",
      "memory usage: 32.9+ KB\n"
     ]
    }
   ],
   "source": [
    "df.info()"
   ]
  },
  {
   "cell_type": "code",
   "execution_count": 6,
   "id": "5dc34ca8-735c-4a45-aa83-30f4cb67b685",
   "metadata": {},
   "outputs": [
    {
     "data": {
      "text/plain": [
       "array(['active', 'scheduled', 'landed'], dtype=object)"
      ]
     },
     "execution_count": 6,
     "metadata": {},
     "output_type": "execute_result"
    }
   ],
   "source": [
    "df[\"flight_status\"].unique()"
   ]
  },
  {
   "cell_type": "markdown",
   "id": "353f9442-2c63-4c91-a9f9-bcc5bc217de7",
   "metadata": {},
   "source": [
    "#### Codeshare mapping"
   ]
  },
  {
   "cell_type": "code",
   "execution_count": 7,
   "id": "7b287629-f7e6-4a66-88f9-6e585f0d1b8c",
   "metadata": {},
   "outputs": [
    {
     "data": {
      "text/html": [
       "<div>\n",
       "<style scoped>\n",
       "    .dataframe tbody tr th:only-of-type {\n",
       "        vertical-align: middle;\n",
       "    }\n",
       "\n",
       "    .dataframe tbody tr th {\n",
       "        vertical-align: top;\n",
       "    }\n",
       "\n",
       "    .dataframe thead th {\n",
       "        text-align: right;\n",
       "    }\n",
       "</style>\n",
       "<table border=\"1\" class=\"dataframe\">\n",
       "  <thead>\n",
       "    <tr style=\"text-align: right;\">\n",
       "      <th></th>\n",
       "      <th>airline.icao</th>\n",
       "      <th>flight.number</th>\n",
       "      <th>flight.codeshared.flight_icao</th>\n",
       "    </tr>\n",
       "  </thead>\n",
       "  <tbody>\n",
       "    <tr>\n",
       "      <th>0</th>\n",
       "      <td>TAP</td>\n",
       "      <td>4233</td>\n",
       "      <td>glo2014</td>\n",
       "    </tr>\n",
       "    <tr>\n",
       "      <th>1</th>\n",
       "      <td>GLO</td>\n",
       "      <td>2014</td>\n",
       "      <td>NaN</td>\n",
       "    </tr>\n",
       "    <tr>\n",
       "      <th>2</th>\n",
       "      <td>ARG</td>\n",
       "      <td>7570</td>\n",
       "      <td>glo2046</td>\n",
       "    </tr>\n",
       "    <tr>\n",
       "      <th>3</th>\n",
       "      <td>UAE</td>\n",
       "      <td>3715</td>\n",
       "      <td>glo2046</td>\n",
       "    </tr>\n",
       "    <tr>\n",
       "      <th>4</th>\n",
       "      <td>TAP</td>\n",
       "      <td>4047</td>\n",
       "      <td>glo2046</td>\n",
       "    </tr>\n",
       "    <tr>\n",
       "      <th>...</th>\n",
       "      <td>...</td>\n",
       "      <td>...</td>\n",
       "      <td>...</td>\n",
       "    </tr>\n",
       "    <tr>\n",
       "      <th>95</th>\n",
       "      <td>GLO</td>\n",
       "      <td>7656</td>\n",
       "      <td>NaN</td>\n",
       "    </tr>\n",
       "    <tr>\n",
       "      <th>96</th>\n",
       "      <td>JAT</td>\n",
       "      <td>3817</td>\n",
       "      <td>NaN</td>\n",
       "    </tr>\n",
       "    <tr>\n",
       "      <th>97</th>\n",
       "      <td>JAT</td>\n",
       "      <td>3813</td>\n",
       "      <td>NaN</td>\n",
       "    </tr>\n",
       "    <tr>\n",
       "      <th>98</th>\n",
       "      <td>ARG</td>\n",
       "      <td>7450</td>\n",
       "      <td>glo2073</td>\n",
       "    </tr>\n",
       "    <tr>\n",
       "      <th>99</th>\n",
       "      <td>AVA</td>\n",
       "      <td>4648</td>\n",
       "      <td>glo2073</td>\n",
       "    </tr>\n",
       "  </tbody>\n",
       "</table>\n",
       "<p>100 rows × 3 columns</p>\n",
       "</div>"
      ],
      "text/plain": [
       "   airline.icao flight.number flight.codeshared.flight_icao\n",
       "0           TAP          4233                       glo2014\n",
       "1           GLO          2014                           NaN\n",
       "2           ARG          7570                       glo2046\n",
       "3           UAE          3715                       glo2046\n",
       "4           TAP          4047                       glo2046\n",
       "..          ...           ...                           ...\n",
       "95          GLO          7656                           NaN\n",
       "96          JAT          3817                           NaN\n",
       "97          JAT          3813                           NaN\n",
       "98          ARG          7450                       glo2073\n",
       "99          AVA          4648                       glo2073\n",
       "\n",
       "[100 rows x 3 columns]"
      ]
     },
     "execution_count": 7,
     "metadata": {},
     "output_type": "execute_result"
    }
   ],
   "source": [
    "df[[\"airline.icao\", \"flight.number\", \"flight.codeshared.flight_icao\"]]"
   ]
  },
  {
   "cell_type": "code",
   "execution_count": 8,
   "id": "e7e1bb3b-f593-4b43-bd8d-104bc850fe92",
   "metadata": {},
   "outputs": [],
   "source": [
    "import pandas as pd\n",
    "\n",
    "# Get the rows that are codeshare (pointing to an operated flight)\n",
    "ref = (\n",
    "    df.loc[df[\"flight.codeshared.flight_icao\"].notna(),\n",
    "           [\"flight.codeshared.flight_icao\", \"airline.name\", \"flight.number\"]]\n",
    "      .copy()\n",
    ")\n",
    "\n",
    "# Build the label \"Airline / Flight Number\" for each codeshare\n",
    "ref[\"pair\"] = ref[\"airline.name\"].fillna(\"\").astype(str) + \" \" + ref[\"flight.number\"].astype(str)\n",
    "\n",
    "# Aggregate by operated flight (key = flight.codeshared.flight_icao)\n",
    "agg = (\n",
    "    ref.groupby(ref[\"flight.codeshared.flight_icao\"].str.upper())[\"pair\"]\n",
    "       .apply(lambda s: \" / \".join(sorted(set(s))))\n",
    "       .reset_index()\n",
    "       .rename(columns={\n",
    "           \"flight.codeshared.flight_icao\": \"flight.icao\",\n",
    "           \"pair\": \"codeshare\"\n",
    "       })\n",
    ")\n",
    "\n",
    "# Merge with the original DataFrame using the operated flight key (flight.icao)\n",
    "df = df.merge(agg, how=\"left\", on=\"flight.icao\")\n",
    "\n",
    "# Keep \"codeshare\" ONLY in rows where the flight is the operated one\n",
    "df.loc[df[\"flight.codeshared.flight_icao\"].notna(), \"codeshare\"] = pd.NA"
   ]
  },
  {
   "cell_type": "markdown",
   "id": "be34fd30-f01a-41d0-8a41-86e7ac7511aa",
   "metadata": {},
   "source": [
    "#### Handling null values"
   ]
  },
  {
   "cell_type": "code",
   "execution_count": 9,
   "id": "b4f1f890-e1c3-4426-8ecc-5df3ce61effb",
   "metadata": {},
   "outputs": [],
   "source": [
    "df.dropna(subset = \"codeshare\", inplace = True)"
   ]
  },
  {
   "cell_type": "markdown",
   "id": "823cb86f-dc7b-42a1-afdd-7994d6272241",
   "metadata": {},
   "source": [
    "#### Datetime formatting"
   ]
  },
  {
   "cell_type": "code",
   "execution_count": 10,
   "id": "66d31d02-5d8f-4e71-b17d-b0fd33255374",
   "metadata": {},
   "outputs": [
    {
     "data": {
      "text/html": [
       "<div>\n",
       "<style scoped>\n",
       "    .dataframe tbody tr th:only-of-type {\n",
       "        vertical-align: middle;\n",
       "    }\n",
       "\n",
       "    .dataframe tbody tr th {\n",
       "        vertical-align: top;\n",
       "    }\n",
       "\n",
       "    .dataframe thead th {\n",
       "        text-align: right;\n",
       "    }\n",
       "</style>\n",
       "<table border=\"1\" class=\"dataframe\">\n",
       "  <thead>\n",
       "    <tr style=\"text-align: right;\">\n",
       "      <th></th>\n",
       "      <th>departure.delay</th>\n",
       "      <th>departure.scheduled</th>\n",
       "      <th>departure.estimated</th>\n",
       "      <th>departure.actual</th>\n",
       "    </tr>\n",
       "  </thead>\n",
       "  <tbody>\n",
       "    <tr>\n",
       "      <th>1</th>\n",
       "      <td>NaN</td>\n",
       "      <td>2025-09-15T07:55:00+00:00</td>\n",
       "      <td>2025-09-15T07:55:00+00:00</td>\n",
       "      <td>None</td>\n",
       "    </tr>\n",
       "    <tr>\n",
       "      <th>5</th>\n",
       "      <td>NaN</td>\n",
       "      <td>2025-09-15T07:55:00+00:00</td>\n",
       "      <td>2025-09-15T07:55:00+00:00</td>\n",
       "      <td>None</td>\n",
       "    </tr>\n",
       "    <tr>\n",
       "      <th>8</th>\n",
       "      <td>NaN</td>\n",
       "      <td>2025-09-15T07:55:00+00:00</td>\n",
       "      <td>2025-09-15T07:55:00+00:00</td>\n",
       "      <td>None</td>\n",
       "    </tr>\n",
       "    <tr>\n",
       "      <th>13</th>\n",
       "      <td>NaN</td>\n",
       "      <td>2025-09-15T08:00:00+00:00</td>\n",
       "      <td>2025-09-15T08:00:00+00:00</td>\n",
       "      <td>None</td>\n",
       "    </tr>\n",
       "    <tr>\n",
       "      <th>17</th>\n",
       "      <td>NaN</td>\n",
       "      <td>2025-09-15T08:10:00+00:00</td>\n",
       "      <td>2025-09-15T08:10:00+00:00</td>\n",
       "      <td>None</td>\n",
       "    </tr>\n",
       "  </tbody>\n",
       "</table>\n",
       "</div>"
      ],
      "text/plain": [
       "    departure.delay        departure.scheduled        departure.estimated  \\\n",
       "1               NaN  2025-09-15T07:55:00+00:00  2025-09-15T07:55:00+00:00   \n",
       "5               NaN  2025-09-15T07:55:00+00:00  2025-09-15T07:55:00+00:00   \n",
       "8               NaN  2025-09-15T07:55:00+00:00  2025-09-15T07:55:00+00:00   \n",
       "13              NaN  2025-09-15T08:00:00+00:00  2025-09-15T08:00:00+00:00   \n",
       "17              NaN  2025-09-15T08:10:00+00:00  2025-09-15T08:10:00+00:00   \n",
       "\n",
       "   departure.actual  \n",
       "1              None  \n",
       "5              None  \n",
       "8              None  \n",
       "13             None  \n",
       "17             None  "
      ]
     },
     "execution_count": 10,
     "metadata": {},
     "output_type": "execute_result"
    }
   ],
   "source": [
    "df[[\"departure.delay\", \"departure.scheduled\", \"departure.estimated\", \"departure.actual\"]].head()"
   ]
  },
  {
   "cell_type": "code",
   "execution_count": 11,
   "id": "af4fddfa-b72f-4c92-b3eb-6fbfa99d4af4",
   "metadata": {},
   "outputs": [
    {
     "data": {
      "text/plain": [
       "True    18\n",
       "Name: count, dtype: int64"
      ]
     },
     "execution_count": 11,
     "metadata": {},
     "output_type": "execute_result"
    }
   ],
   "source": [
    "(df[\"departure.scheduled\"] == df[\"departure.estimated\"]).value_counts()"
   ]
  },
  {
   "cell_type": "code",
   "execution_count": 12,
   "id": "6e541d08-3a87-458d-bf43-f1374433ad07",
   "metadata": {},
   "outputs": [],
   "source": [
    "# Convert to datetime\n",
    "df[\"departure.scheduled\"] = pd.to_datetime(df[\"departure.scheduled\"])\n",
    "df[\"departure.estimated\"] = pd.to_datetime(df[\"departure.estimated\"])\n",
    "df[\"departure.actual\"] = pd.to_datetime(df[\"departure.actual\"])\n",
    "\n",
    "# Creat new date and hour columns\n",
    "df[\"scheduled_date\"] = df[\"departure.scheduled\"].dt.date\n",
    "df[\"scheduled_time\"] = df[\"departure.scheduled\"].dt.time\n",
    "\n",
    "df[\"estimated_date\"] = df[\"departure.estimated\"].dt.date\n",
    "df[\"estimated_time\"] = df[\"departure.estimated\"].dt.time\n",
    "\n",
    "df[\"actual_date\"] = df[\"departure.actual\"].dt.date\n",
    "df[\"actual_time\"] = df[\"departure.actual\"].dt.time"
   ]
  },
  {
   "cell_type": "markdown",
   "id": "92db7a3a-f439-42de-af19-9e6cb0369fea",
   "metadata": {},
   "source": [
    "#### Droppping unused columns"
   ]
  },
  {
   "cell_type": "code",
   "execution_count": 13,
   "id": "ac64c86d-253a-491c-a040-c60aca408805",
   "metadata": {},
   "outputs": [],
   "source": [
    "# Keeping only departure related columns\n",
    "columns_to_keep = ['flight_status', 'departure.airport',\n",
    "       'departure.timezone', 'departure.iata', 'departure.icao',\n",
    "       'departure.terminal', 'departure.gate', 'departure.delay',\n",
    "       'arrival.airport', 'arrival.iata', 'arrival.icao',\n",
    "       'airline.name', 'airline.iata', 'airline.icao', 'flight.number',\n",
    "       'flight.iata', 'flight.icao',\n",
    "       'codeshare', 'scheduled_date', 'scheduled_time', 'estimated_date',\n",
    "       'estimated_time', 'actual_date', 'actual_time']"
   ]
  },
  {
   "cell_type": "code",
   "execution_count": 17,
   "id": "7d50596b-1fbd-4a9f-8698-176caa919888",
   "metadata": {},
   "outputs": [],
   "source": [
    "df = df[columns_to_keep].reset_index()"
   ]
  },
  {
   "cell_type": "markdown",
   "id": "5a6a5c8b-0ed1-415b-986f-93d27fb54447",
   "metadata": {},
   "source": [
    "### Loading data to a CSV file"
   ]
  },
  {
   "cell_type": "code",
   "execution_count": 19,
   "id": "63d590bf-6665-4701-85dd-a584bb1f84fe",
   "metadata": {},
   "outputs": [],
   "source": [
    "df.to_csv(\"Departures.csv\", index = False)"
   ]
  }
 ],
 "metadata": {
  "kernelspec": {
   "display_name": "Python 3 (ipykernel)",
   "language": "python",
   "name": "python3"
  },
  "language_info": {
   "codemirror_mode": {
    "name": "ipython",
    "version": 3
   },
   "file_extension": ".py",
   "mimetype": "text/x-python",
   "name": "python",
   "nbconvert_exporter": "python",
   "pygments_lexer": "ipython3",
   "version": "3.13.3"
  }
 },
 "nbformat": 4,
 "nbformat_minor": 5
}
