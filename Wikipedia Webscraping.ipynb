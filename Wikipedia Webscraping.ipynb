{
 "cells": [
  {
   "cell_type": "markdown",
   "id": "5f523b5f",
   "metadata": {},
   "source": [
    "# Webscraping from Wikipedia using Beautiful Soup"
   ]
  },
  {
   "cell_type": "code",
   "execution_count": 47,
   "id": "3410b822",
   "metadata": {},
   "outputs": [],
   "source": [
    "import sys\n",
    "\n",
    "import requests\n",
    "from bs4 import BeautifulSoup\n",
    "import re\n",
    "import unicodedata\n",
    "import pandas as pd"
   ]
  },
  {
   "cell_type": "markdown",
   "id": "029dd2df",
   "metadata": {},
   "source": [
    "## Request the Best Selling Albuns Wikipedia page from it's URL"
   ]
  },
  {
   "cell_type": "code",
   "execution_count": 48,
   "id": "659915e6",
   "metadata": {},
   "outputs": [],
   "source": [
    "url = \"https://en.wikipedia.org/wiki/List_of_best-selling_albums\""
   ]
  },
  {
   "cell_type": "code",
   "execution_count": 49,
   "id": "9f85e9e8",
   "metadata": {},
   "outputs": [],
   "source": [
    "# use requests.get() method with the provided url\n",
    "# assign the response to a object\n",
    "\n",
    "headers = {\n",
    "    \"User-Agent\": (\n",
    "        \"Mozilla/5.0 (Windows NT 10.0; Win64; x64) \"\n",
    "        \"AppleWebKit/537.36 (KHTML, like Gecko) \"\n",
    "        \"Chrome/115.0.0.0 Safari/537.36\"\n",
    "    ),\n",
    "    \"Accept\": \"text/html,application/xhtml+xml,application/xml;q=0.9,*/*;q=0.8\",\n",
    "    \"Accept-Language\": \"en-US,en;q=0.9\",\n",
    "    \"Referer\": \"https://en.wikipedia.org/\"\n",
    "}\n",
    "\n",
    "response = requests.get(url, headers=headers, timeout=20)"
   ]
  },
  {
   "cell_type": "code",
   "execution_count": 50,
   "id": "c2280146",
   "metadata": {},
   "outputs": [
    {
     "name": "stdout",
     "output_type": "stream",
     "text": [
      "200\n"
     ]
    }
   ],
   "source": [
    "# Use BeautifulSoup() to create a BeautifulSoup object from a response text content\n",
    "soup = BeautifulSoup(response.text, 'html.parser')\n",
    "\n",
    "print(response.status_code)"
   ]
  },
  {
   "cell_type": "code",
   "execution_count": 51,
   "id": "a2d3c6b2",
   "metadata": {},
   "outputs": [
    {
     "name": "stdout",
     "output_type": "stream",
     "text": [
      "Title of the page: List of best-selling albums - Wikipedia\n"
     ]
    }
   ],
   "source": [
    "# Use soup.title attribute\n",
    "print(\"Title of the page:\", soup.title.text)"
   ]
  },
  {
   "cell_type": "markdown",
   "id": "e5d2ccde",
   "metadata": {},
   "source": [
    "## Extract column/variable names from the HTML table header"
   ]
  },
  {
   "cell_type": "code",
   "execution_count": 52,
   "id": "911fae5a",
   "metadata": {},
   "outputs": [
    {
     "name": "stdout",
     "output_type": "stream",
     "text": [
      "Number of tables found: 12\n"
     ]
    }
   ],
   "source": [
    "# Use the find_all function in the BeautifulSoup object, with element type `table`\n",
    "# Assign the result to a list called `html_tables`\n",
    "html_tables = soup.find_all('table')\n",
    "print(\"Number of tables found:\", len(html_tables))"
   ]
  },
  {
   "cell_type": "code",
   "execution_count": 53,
   "id": "7ddbea29",
   "metadata": {},
   "outputs": [
    {
     "name": "stdout",
     "output_type": "stream",
     "text": [
      "Subtitle: Contents\n",
      "Subtitle: List of best-selling albums\n",
      "Subtitle: Legend\n",
      "Subtitle: 40 million copies or more\n",
      "Subtitle: 30–39 million copies\n",
      "Subtitle: 20–29 million copies\n",
      "Subtitle: Timeline of the best-selling albums\n",
      "Subtitle: Best-selling album by year worldwide\n",
      "Subtitle: See also\n",
      "Subtitle: Notes\n",
      "Subtitle: References\n"
     ]
    }
   ],
   "source": [
    "# Finding the subtitles\n",
    "subtitles = soup.find_all(['h1', 'h2', 'h3', 'h4', 'h5', 'h6'])\n",
    "    \n",
    "for subtitle in subtitles:\n",
    "    print(\"Subtitle:\", subtitle.text)"
   ]
  },
  {
   "cell_type": "code",
   "execution_count": 54,
   "id": "50ad8301",
   "metadata": {},
   "outputs": [
    {
     "name": "stdout",
     "output_type": "stream",
     "text": [
      "Table name: Not found\n",
      "Table name: Not found\n",
      "Table name: Not found\n",
      "Table name: Not found\n",
      "Table name: Timeline of the highest-selling album record\n",
      "\n",
      "Table name: Not found\n",
      "Table name: Not found\n",
      "Table name: Not found\n",
      "Table name: Not found\n",
      "Table name: Not found\n",
      "Table name: Not found\n",
      "Table name: Not found\n"
     ]
    }
   ],
   "source": [
    "# Finding the table names (if it exists)\n",
    "for table in html_tables:\n",
    "        table_names = table.caption.text if table.caption else \"Not found\"\n",
    "        print(\"Table name:\", table_names)"
   ]
  },
  {
   "cell_type": "code",
   "execution_count": 55,
   "id": "daf88cbe",
   "metadata": {},
   "outputs": [],
   "source": [
    "# Extracting '40 million copies or more' table (second one, inspecting the page)\n",
    "forty_mi_table = html_tables[1]"
   ]
  },
  {
   "cell_type": "code",
   "execution_count": 56,
   "id": "a3633e80",
   "metadata": {},
   "outputs": [
    {
     "name": "stdout",
     "output_type": "stream",
     "text": [
      "Column Names: ['Artist', 'Album', 'Released', 'Genre', 'Total certified copies(from available markets)*', 'Reported sales*', 'Ref.']\n"
     ]
    }
   ],
   "source": [
    "if forty_mi_table:\n",
    "        # Finding the table header (th) elements within the table\n",
    "        header_cells = forty_mi_table.find_all('th')\n",
    "        \n",
    "        # Extracting text from header cells to get column names\n",
    "        column_names = [cell.text.strip() for cell in header_cells]\n",
    "        \n",
    "        # Printing the extracted column names\n",
    "        print(\"Column Names:\", column_names)"
   ]
  },
  {
   "cell_type": "markdown",
   "id": "7501e17c",
   "metadata": {},
   "source": [
    "## Create a data frame by parsing the launch HTML tables"
   ]
  },
  {
   "cell_type": "code",
   "execution_count": 57,
   "id": "94f7fc58",
   "metadata": {},
   "outputs": [],
   "source": [
    " if forty_mi_table:\n",
    "        # Extracting table data cells (td) from the table\n",
    "        table_rows = forty_mi_table.find_all('tr')\n",
    "        \n",
    "        # Initializing an empty list to store table data\n",
    "        table_data = []\n",
    "        \n",
    "        # Looping through each table row\n",
    "        for row in table_rows:\n",
    "            # Extracting table data cells (td) from the row\n",
    "            row_data = [cell.text.strip() for cell in row.find_all('td')]\n",
    "            if row_data:\n",
    "                # Adding non-empty rows to the table data list\n",
    "                table_data.append(row_data)\n",
    "        \n",
    "        # Creating a DataFrame from the table data\n",
    "        df_40 = pd.DataFrame(table_data, columns=column_names)"
   ]
  },
  {
   "cell_type": "code",
   "execution_count": 58,
   "id": "0fe36e9f",
   "metadata": {},
   "outputs": [
    {
     "data": {
      "text/html": [
       "<div>\n",
       "<style scoped>\n",
       "    .dataframe tbody tr th:only-of-type {\n",
       "        vertical-align: middle;\n",
       "    }\n",
       "\n",
       "    .dataframe tbody tr th {\n",
       "        vertical-align: top;\n",
       "    }\n",
       "\n",
       "    .dataframe thead th {\n",
       "        text-align: right;\n",
       "    }\n",
       "</style>\n",
       "<table border=\"1\" class=\"dataframe\">\n",
       "  <thead>\n",
       "    <tr style=\"text-align: right;\">\n",
       "      <th></th>\n",
       "      <th>Artist</th>\n",
       "      <th>Album</th>\n",
       "      <th>Released</th>\n",
       "      <th>Genre</th>\n",
       "      <th>Total certified copies(from available markets)*</th>\n",
       "      <th>Reported sales*</th>\n",
       "      <th>Ref.</th>\n",
       "    </tr>\n",
       "  </thead>\n",
       "  <tbody>\n",
       "    <tr>\n",
       "      <th>0</th>\n",
       "      <td>Michael Jackson</td>\n",
       "      <td>Thriller</td>\n",
       "      <td>1982</td>\n",
       "      <td>Pop, post-disco, funk, rock</td>\n",
       "      <td>51.3\\nUS: 34 million[8]\\nJPN: 100,000[9]\\nUK: ...</td>\n",
       "      <td>70</td>\n",
       "      <td>[30][31][32]</td>\n",
       "    </tr>\n",
       "    <tr>\n",
       "      <th>1</th>\n",
       "      <td>AC/DC</td>\n",
       "      <td>Back in Black</td>\n",
       "      <td>1980</td>\n",
       "      <td>Hard rock</td>\n",
       "      <td>31.2\\nUS: 27 million[8]\\nUK: 1 million[10]\\nGE...</td>\n",
       "      <td>50</td>\n",
       "      <td>[40]</td>\n",
       "    </tr>\n",
       "    <tr>\n",
       "      <th>2</th>\n",
       "      <td>Whitney Houston / Various artists</td>\n",
       "      <td>The Bodyguard</td>\n",
       "      <td>1992</td>\n",
       "      <td>R&amp;B, soul, pop, soundtrack</td>\n",
       "      <td>29.7\\nUS: 19 million[8]\\nJPN: 2 million[41][42...</td>\n",
       "      <td>45</td>\n",
       "      <td>[46][47]</td>\n",
       "    </tr>\n",
       "    <tr>\n",
       "      <th>3</th>\n",
       "      <td>Pink Floyd</td>\n",
       "      <td>The Dark Side of the Moon</td>\n",
       "      <td>1973</td>\n",
       "      <td>Progressive rock</td>\n",
       "      <td>25.6\\nUS: 15 million[8]\\nUK: 4.8 million[10]\\n...</td>\n",
       "      <td>45</td>\n",
       "      <td>[49]</td>\n",
       "    </tr>\n",
       "    <tr>\n",
       "      <th>4</th>\n",
       "      <td>Eagles</td>\n",
       "      <td>Their Greatest Hits (1971–1975)</td>\n",
       "      <td>1976</td>\n",
       "      <td>Country rock, soft rock, folk rock</td>\n",
       "      <td>41.2\\nUS: 38 million[8]\\nUK: 600,000[10]\\nCAN:...</td>\n",
       "      <td>44</td>\n",
       "      <td>[50]</td>\n",
       "    </tr>\n",
       "    <tr>\n",
       "      <th>5</th>\n",
       "      <td>Eagles</td>\n",
       "      <td>Hotel California</td>\n",
       "      <td>1976</td>\n",
       "      <td>Soft rock</td>\n",
       "      <td>31.8\\nUS: 26 million[8]\\nUK: 1.8 million[10]\\n...</td>\n",
       "      <td>42</td>\n",
       "      <td>[52]</td>\n",
       "    </tr>\n",
       "    <tr>\n",
       "      <th>6</th>\n",
       "      <td>Shania Twain</td>\n",
       "      <td>Come On Over</td>\n",
       "      <td>1997</td>\n",
       "      <td>Country, pop</td>\n",
       "      <td>30.7\\nUS: 20 million[8]\\nJPN: 100,000[9]\\nUK: ...</td>\n",
       "      <td>40</td>\n",
       "      <td>[55][56]</td>\n",
       "    </tr>\n",
       "    <tr>\n",
       "      <th>7</th>\n",
       "      <td>Fleetwood Mac</td>\n",
       "      <td>Rumours</td>\n",
       "      <td>1977</td>\n",
       "      <td>Soft rock</td>\n",
       "      <td>30.3\\nUS: 21 million[8]\\nUK: 4.5 million[10]\\n...</td>\n",
       "      <td>40</td>\n",
       "      <td>[60][61]</td>\n",
       "    </tr>\n",
       "    <tr>\n",
       "      <th>8</th>\n",
       "      <td>Meat Loaf</td>\n",
       "      <td>Bat Out of Hell</td>\n",
       "      <td>1977</td>\n",
       "      <td>Hard rock, glam rock, progressive rock</td>\n",
       "      <td>22\\nUS: 14 million[8]\\nUK: 3.3 million[10]\\nGE...</td>\n",
       "      <td>40</td>\n",
       "      <td>[63]</td>\n",
       "    </tr>\n",
       "    <tr>\n",
       "      <th>9</th>\n",
       "      <td>Bee Gees / Various artists</td>\n",
       "      <td>Saturday Night Fever</td>\n",
       "      <td>1977</td>\n",
       "      <td>Disco</td>\n",
       "      <td>22.1\\nUS: 16 million[8]\\nUK: 2.1 million[10]\\n...</td>\n",
       "      <td>40</td>\n",
       "      <td>[65][66]</td>\n",
       "    </tr>\n",
       "  </tbody>\n",
       "</table>\n",
       "</div>"
      ],
      "text/plain": [
       "                              Artist                            Album  \\\n",
       "0                    Michael Jackson                         Thriller   \n",
       "1                              AC/DC                    Back in Black   \n",
       "2  Whitney Houston / Various artists                    The Bodyguard   \n",
       "3                         Pink Floyd        The Dark Side of the Moon   \n",
       "4                             Eagles  Their Greatest Hits (1971–1975)   \n",
       "5                             Eagles                 Hotel California   \n",
       "6                       Shania Twain                     Come On Over   \n",
       "7                      Fleetwood Mac                          Rumours   \n",
       "8                          Meat Loaf                  Bat Out of Hell   \n",
       "9         Bee Gees / Various artists             Saturday Night Fever   \n",
       "\n",
       "  Released                                   Genre  \\\n",
       "0     1982             Pop, post-disco, funk, rock   \n",
       "1     1980                               Hard rock   \n",
       "2     1992              R&B, soul, pop, soundtrack   \n",
       "3     1973                        Progressive rock   \n",
       "4     1976      Country rock, soft rock, folk rock   \n",
       "5     1976                               Soft rock   \n",
       "6     1997                            Country, pop   \n",
       "7     1977                               Soft rock   \n",
       "8     1977  Hard rock, glam rock, progressive rock   \n",
       "9     1977                                   Disco   \n",
       "\n",
       "     Total certified copies(from available markets)* Reported sales*  \\\n",
       "0  51.3\\nUS: 34 million[8]\\nJPN: 100,000[9]\\nUK: ...              70   \n",
       "1  31.2\\nUS: 27 million[8]\\nUK: 1 million[10]\\nGE...              50   \n",
       "2  29.7\\nUS: 19 million[8]\\nJPN: 2 million[41][42...              45   \n",
       "3  25.6\\nUS: 15 million[8]\\nUK: 4.8 million[10]\\n...              45   \n",
       "4  41.2\\nUS: 38 million[8]\\nUK: 600,000[10]\\nCAN:...              44   \n",
       "5  31.8\\nUS: 26 million[8]\\nUK: 1.8 million[10]\\n...              42   \n",
       "6  30.7\\nUS: 20 million[8]\\nJPN: 100,000[9]\\nUK: ...              40   \n",
       "7  30.3\\nUS: 21 million[8]\\nUK: 4.5 million[10]\\n...              40   \n",
       "8  22\\nUS: 14 million[8]\\nUK: 3.3 million[10]\\nGE...              40   \n",
       "9  22.1\\nUS: 16 million[8]\\nUK: 2.1 million[10]\\n...              40   \n",
       "\n",
       "           Ref.  \n",
       "0  [30][31][32]  \n",
       "1          [40]  \n",
       "2      [46][47]  \n",
       "3          [49]  \n",
       "4          [50]  \n",
       "5          [52]  \n",
       "6      [55][56]  \n",
       "7      [60][61]  \n",
       "8          [63]  \n",
       "9      [65][66]  "
      ]
     },
     "execution_count": 58,
     "metadata": {},
     "output_type": "execute_result"
    }
   ],
   "source": [
    "df_40"
   ]
  },
  {
   "cell_type": "markdown",
   "id": "42ab69ad",
   "metadata": {},
   "source": [
    "### Extract complimentary tables, create the dataframes and join them"
   ]
  },
  {
   "cell_type": "code",
   "execution_count": 59,
   "id": "34617fe3",
   "metadata": {},
   "outputs": [],
   "source": [
    "# Extracting '30 - 39 million copies' table (third one, inspecting the page)\n",
    "thirty_mi_table = html_tables[2]"
   ]
  },
  {
   "cell_type": "code",
   "execution_count": 60,
   "id": "e09630c3",
   "metadata": {},
   "outputs": [],
   "source": [
    " if thirty_mi_table:\n",
    "        # Extracting table data cells (td) from the table\n",
    "        table_rows = thirty_mi_table.find_all('tr')\n",
    "        \n",
    "        # Initializing an empty list to store table data\n",
    "        table_data = []\n",
    "        \n",
    "        # Looping through each table row\n",
    "        for row in table_rows:\n",
    "            # Extracting table data cells (td) from the row\n",
    "            row_data = [cell.text.strip() for cell in row.find_all('td')]\n",
    "            if row_data:\n",
    "                # Adding non-empty rows to the table data list\n",
    "                table_data.append(row_data)\n",
    "        \n",
    "        # Creating a DataFrame from the table data\n",
    "        df_30 = pd.DataFrame(table_data, columns=column_names)"
   ]
  },
  {
   "cell_type": "code",
   "execution_count": 61,
   "id": "a11dc3c3",
   "metadata": {},
   "outputs": [
    {
     "name": "stdout",
     "output_type": "stream",
     "text": [
      "</tbody></table>\n"
     ]
    }
   ],
   "source": [
    "# Extracting '20 - 29 million copies' table (fourth one, inspecting the page)\n",
    "twenty_mi_table = html_tables[3]"
   ]
  },
  {
   "cell_type": "code",
   "execution_count": 62,
   "id": "141490aa",
   "metadata": {},
   "outputs": [],
   "source": [
    "if twenty_mi_table:\n",
    "        # Extracting table data cells (td) from the table\n",
    "        table_rows = twenty_mi_table.find_all('tr')\n",
    "        \n",
    "        # Initializing an empty list to store table data\n",
    "        table_data = []\n",
    "        \n",
    "        # Looping through each table row\n",
    "        for row in table_rows:\n",
    "            # Extracting table data cells (td) from the row\n",
    "            row_data = [cell.text.strip() for cell in row.find_all('td')]\n",
    "            if row_data:\n",
    "                # Adding non-empty rows to the table data list\n",
    "                table_data.append(row_data)\n",
    "        \n",
    "        # Creating a DataFrame from the table data\n",
    "        df_20 = pd.DataFrame(table_data, columns=column_names)"
   ]
  },
  {
   "cell_type": "markdown",
   "id": "4a5f29e3",
   "metadata": {},
   "source": [
    "### Join dataframes, perform some data cleaning and save into a file"
   ]
  },
  {
   "cell_type": "code",
   "execution_count": 63,
   "id": "ebe69fc6",
   "metadata": {
    "scrolled": true
   },
   "outputs": [
    {
     "data": {
      "text/html": [
       "<div>\n",
       "<style scoped>\n",
       "    .dataframe tbody tr th:only-of-type {\n",
       "        vertical-align: middle;\n",
       "    }\n",
       "\n",
       "    .dataframe tbody tr th {\n",
       "        vertical-align: top;\n",
       "    }\n",
       "\n",
       "    .dataframe thead th {\n",
       "        text-align: right;\n",
       "    }\n",
       "</style>\n",
       "<table border=\"1\" class=\"dataframe\">\n",
       "  <thead>\n",
       "    <tr style=\"text-align: right;\">\n",
       "      <th></th>\n",
       "      <th>Artist</th>\n",
       "      <th>Album</th>\n",
       "      <th>Released</th>\n",
       "      <th>Genre</th>\n",
       "      <th>Total certified copies(from available markets)*</th>\n",
       "      <th>Reported sales*</th>\n",
       "      <th>Ref.</th>\n",
       "    </tr>\n",
       "  </thead>\n",
       "  <tbody>\n",
       "    <tr>\n",
       "      <th>0</th>\n",
       "      <td>Michael Jackson</td>\n",
       "      <td>Thriller</td>\n",
       "      <td>1982</td>\n",
       "      <td>Pop, post-disco, funk, rock</td>\n",
       "      <td>51.3\\nUS: 34 million[8]\\nJPN: 100,000[9]\\nUK: ...</td>\n",
       "      <td>70</td>\n",
       "      <td>[30][31][32]</td>\n",
       "    </tr>\n",
       "    <tr>\n",
       "      <th>1</th>\n",
       "      <td>AC/DC</td>\n",
       "      <td>Back in Black</td>\n",
       "      <td>1980</td>\n",
       "      <td>Hard rock</td>\n",
       "      <td>31.2\\nUS: 27 million[8]\\nUK: 1 million[10]\\nGE...</td>\n",
       "      <td>50</td>\n",
       "      <td>[40]</td>\n",
       "    </tr>\n",
       "    <tr>\n",
       "      <th>2</th>\n",
       "      <td>Whitney Houston / Various artists</td>\n",
       "      <td>The Bodyguard</td>\n",
       "      <td>1992</td>\n",
       "      <td>R&amp;B, soul, pop, soundtrack</td>\n",
       "      <td>29.7\\nUS: 19 million[8]\\nJPN: 2 million[41][42...</td>\n",
       "      <td>45</td>\n",
       "      <td>[46][47]</td>\n",
       "    </tr>\n",
       "    <tr>\n",
       "      <th>3</th>\n",
       "      <td>Pink Floyd</td>\n",
       "      <td>The Dark Side of the Moon</td>\n",
       "      <td>1973</td>\n",
       "      <td>Progressive rock</td>\n",
       "      <td>25.6\\nUS: 15 million[8]\\nUK: 4.8 million[10]\\n...</td>\n",
       "      <td>45</td>\n",
       "      <td>[49]</td>\n",
       "    </tr>\n",
       "    <tr>\n",
       "      <th>4</th>\n",
       "      <td>Eagles</td>\n",
       "      <td>Their Greatest Hits (1971–1975)</td>\n",
       "      <td>1976</td>\n",
       "      <td>Country rock, soft rock, folk rock</td>\n",
       "      <td>41.2\\nUS: 38 million[8]\\nUK: 600,000[10]\\nCAN:...</td>\n",
       "      <td>44</td>\n",
       "      <td>[50]</td>\n",
       "    </tr>\n",
       "    <tr>\n",
       "      <th>...</th>\n",
       "      <td>...</td>\n",
       "      <td>...</td>\n",
       "      <td>...</td>\n",
       "      <td>...</td>\n",
       "      <td>...</td>\n",
       "      <td>...</td>\n",
       "      <td>...</td>\n",
       "    </tr>\n",
       "    <tr>\n",
       "      <th>43</th>\n",
       "      <td>Lionel Richie</td>\n",
       "      <td>Can't Slow Down</td>\n",
       "      <td>1983</td>\n",
       "      <td>Pop, R&amp;B, soul</td>\n",
       "      <td>12.3\\nUS: 10 million[8]\\nUK: 900,000[10]\\nGER:...</td>\n",
       "      <td>20</td>\n",
       "      <td>[212]</td>\n",
       "    </tr>\n",
       "    <tr>\n",
       "      <th>44</th>\n",
       "      <td>Celine Dion</td>\n",
       "      <td>The Colour of My Love</td>\n",
       "      <td>1993</td>\n",
       "      <td>Pop</td>\n",
       "      <td>11.1\\nUS: 6 million[8]\\nJPN: 600,000[9]\\nUK: 1...</td>\n",
       "      <td>20</td>\n",
       "      <td>[213]</td>\n",
       "    </tr>\n",
       "    <tr>\n",
       "      <th>45</th>\n",
       "      <td>Pink Floyd</td>\n",
       "      <td>Wish You Were Here</td>\n",
       "      <td>1975</td>\n",
       "      <td>Progressive rock</td>\n",
       "      <td>10.9\\nUS: 6 million[8]\\nGER: 1.5 million[11]\\n...</td>\n",
       "      <td>20</td>\n",
       "      <td>[214][215]</td>\n",
       "    </tr>\n",
       "    <tr>\n",
       "      <th>46</th>\n",
       "      <td>Andrea Bocelli</td>\n",
       "      <td>Romanza</td>\n",
       "      <td>1997</td>\n",
       "      <td>Operatic pop</td>\n",
       "      <td>10.1\\nUS: 3 million[8]\\nUK: 300,000[10]\\nGER: ...</td>\n",
       "      <td>20</td>\n",
       "      <td>[216]</td>\n",
       "    </tr>\n",
       "    <tr>\n",
       "      <th>47</th>\n",
       "      <td>Amy Winehouse</td>\n",
       "      <td>Back to Black</td>\n",
       "      <td>2006</td>\n",
       "      <td>R&amp;B, soul, jazz</td>\n",
       "      <td>10\\nUS: 2 million[8]\\nJPN: 100,000[9]\\nUK: 4.2...</td>\n",
       "      <td>20</td>\n",
       "      <td>[218]</td>\n",
       "    </tr>\n",
       "  </tbody>\n",
       "</table>\n",
       "<p>79 rows × 7 columns</p>\n",
       "</div>"
      ],
      "text/plain": [
       "                               Artist                            Album  \\\n",
       "0                     Michael Jackson                         Thriller   \n",
       "1                               AC/DC                    Back in Black   \n",
       "2   Whitney Houston / Various artists                    The Bodyguard   \n",
       "3                          Pink Floyd        The Dark Side of the Moon   \n",
       "4                              Eagles  Their Greatest Hits (1971–1975)   \n",
       "..                                ...                              ...   \n",
       "43                      Lionel Richie                  Can't Slow Down   \n",
       "44                        Celine Dion            The Colour of My Love   \n",
       "45                         Pink Floyd               Wish You Were Here   \n",
       "46                     Andrea Bocelli                          Romanza   \n",
       "47                      Amy Winehouse                    Back to Black   \n",
       "\n",
       "   Released                               Genre  \\\n",
       "0      1982         Pop, post-disco, funk, rock   \n",
       "1      1980                           Hard rock   \n",
       "2      1992          R&B, soul, pop, soundtrack   \n",
       "3      1973                    Progressive rock   \n",
       "4      1976  Country rock, soft rock, folk rock   \n",
       "..      ...                                 ...   \n",
       "43     1983                      Pop, R&B, soul   \n",
       "44     1993                                 Pop   \n",
       "45     1975                    Progressive rock   \n",
       "46     1997                        Operatic pop   \n",
       "47     2006                     R&B, soul, jazz   \n",
       "\n",
       "      Total certified copies(from available markets)* Reported sales*  \\\n",
       "0   51.3\\nUS: 34 million[8]\\nJPN: 100,000[9]\\nUK: ...              70   \n",
       "1   31.2\\nUS: 27 million[8]\\nUK: 1 million[10]\\nGE...              50   \n",
       "2   29.7\\nUS: 19 million[8]\\nJPN: 2 million[41][42...              45   \n",
       "3   25.6\\nUS: 15 million[8]\\nUK: 4.8 million[10]\\n...              45   \n",
       "4   41.2\\nUS: 38 million[8]\\nUK: 600,000[10]\\nCAN:...              44   \n",
       "..                                                ...             ...   \n",
       "43  12.3\\nUS: 10 million[8]\\nUK: 900,000[10]\\nGER:...              20   \n",
       "44  11.1\\nUS: 6 million[8]\\nJPN: 600,000[9]\\nUK: 1...              20   \n",
       "45  10.9\\nUS: 6 million[8]\\nGER: 1.5 million[11]\\n...              20   \n",
       "46  10.1\\nUS: 3 million[8]\\nUK: 300,000[10]\\nGER: ...              20   \n",
       "47  10\\nUS: 2 million[8]\\nJPN: 100,000[9]\\nUK: 4.2...              20   \n",
       "\n",
       "            Ref.  \n",
       "0   [30][31][32]  \n",
       "1           [40]  \n",
       "2       [46][47]  \n",
       "3           [49]  \n",
       "4           [50]  \n",
       "..           ...  \n",
       "43         [212]  \n",
       "44         [213]  \n",
       "45    [214][215]  \n",
       "46         [216]  \n",
       "47         [218]  \n",
       "\n",
       "[79 rows x 7 columns]"
      ]
     },
     "execution_count": 63,
     "metadata": {},
     "output_type": "execute_result"
    }
   ],
   "source": [
    "# Vertically concatenate (stack) the DataFrames\n",
    "df = pd.concat([df_40, df_30, df_20], axis=0)\n",
    "df"
   ]
  },
  {
   "cell_type": "code",
   "execution_count": 64,
   "id": "d748fa69",
   "metadata": {},
   "outputs": [
    {
     "name": "stdout",
     "output_type": "stream",
     "text": [
      "<class 'pandas.core.frame.DataFrame'>\n",
      "Index: 79 entries, 0 to 47\n",
      "Data columns (total 7 columns):\n",
      " #   Column                                           Non-Null Count  Dtype \n",
      "---  ------                                           --------------  ----- \n",
      " 0   Artist                                           79 non-null     object\n",
      " 1   Album                                            79 non-null     object\n",
      " 2   Released                                         79 non-null     object\n",
      " 3   Genre                                            79 non-null     object\n",
      " 4   Total certified copies(from available markets)*  79 non-null     object\n",
      " 5   Reported sales*                                  79 non-null     object\n",
      " 6   Ref.                                             79 non-null     object\n",
      "dtypes: object(7)\n",
      "memory usage: 4.9+ KB\n"
     ]
    }
   ],
   "source": [
    "df.info()"
   ]
  },
  {
   "cell_type": "code",
   "execution_count": 65,
   "id": "53bff929",
   "metadata": {},
   "outputs": [],
   "source": [
    "# Droping unnecessary column\n",
    "df.drop('Ref.', axis=1, inplace=True)"
   ]
  },
  {
   "cell_type": "code",
   "execution_count": 69,
   "id": "d4aec2c9",
   "metadata": {},
   "outputs": [],
   "source": [
    "# Changing columns name\n",
    "df = df.rename(columns={'Total certified copies(from available markets)*': 'Total Certified Copies', \n",
    "                        'Reported sales*': 'Reported Sales'})"
   ]
  },
  {
   "cell_type": "code",
   "execution_count": 70,
   "id": "a6323094",
   "metadata": {},
   "outputs": [],
   "source": [
    "# Cleaning string data\n",
    "df['Total Certified Copies'] = df['Total Certified Copies'].str.split('\\n').str[0]\n",
    "df['Reported Sales'] = df['Reported Sales'].str[:2]"
   ]
  },
  {
   "cell_type": "code",
   "execution_count": 72,
   "id": "7396657a",
   "metadata": {},
   "outputs": [],
   "source": [
    "# Converting columns to float and datetime\n",
    "df['Total Certified Copies'] = df['Total Certified Copies'].astype(float)\n",
    "df['Reported Sales'] = df['Reported Sales'].astype(float)\n",
    "df['Released'] = pd.to_datetime(df['Released']).dt.year"
   ]
  },
  {
   "cell_type": "code",
   "execution_count": 74,
   "id": "b3349f9d",
   "metadata": {},
   "outputs": [
    {
     "data": {
      "text/html": [
       "<div>\n",
       "<style scoped>\n",
       "    .dataframe tbody tr th:only-of-type {\n",
       "        vertical-align: middle;\n",
       "    }\n",
       "\n",
       "    .dataframe tbody tr th {\n",
       "        vertical-align: top;\n",
       "    }\n",
       "\n",
       "    .dataframe thead th {\n",
       "        text-align: right;\n",
       "    }\n",
       "</style>\n",
       "<table border=\"1\" class=\"dataframe\">\n",
       "  <thead>\n",
       "    <tr style=\"text-align: right;\">\n",
       "      <th></th>\n",
       "      <th>Artist</th>\n",
       "      <th>Album</th>\n",
       "      <th>Released</th>\n",
       "      <th>Genre</th>\n",
       "      <th>Total Certified Copies</th>\n",
       "      <th>Reported Sales</th>\n",
       "    </tr>\n",
       "  </thead>\n",
       "  <tbody>\n",
       "    <tr>\n",
       "      <th>0</th>\n",
       "      <td>Michael Jackson</td>\n",
       "      <td>Thriller</td>\n",
       "      <td>1982</td>\n",
       "      <td>Pop, post-disco, funk, rock</td>\n",
       "      <td>51.3</td>\n",
       "      <td>70.0</td>\n",
       "    </tr>\n",
       "    <tr>\n",
       "      <th>1</th>\n",
       "      <td>AC/DC</td>\n",
       "      <td>Back in Black</td>\n",
       "      <td>1980</td>\n",
       "      <td>Hard rock</td>\n",
       "      <td>31.2</td>\n",
       "      <td>50.0</td>\n",
       "    </tr>\n",
       "    <tr>\n",
       "      <th>2</th>\n",
       "      <td>Whitney Houston / Various artists</td>\n",
       "      <td>The Bodyguard</td>\n",
       "      <td>1992</td>\n",
       "      <td>R&amp;B, soul, pop, soundtrack</td>\n",
       "      <td>29.7</td>\n",
       "      <td>45.0</td>\n",
       "    </tr>\n",
       "    <tr>\n",
       "      <th>3</th>\n",
       "      <td>Pink Floyd</td>\n",
       "      <td>The Dark Side of the Moon</td>\n",
       "      <td>1973</td>\n",
       "      <td>Progressive rock</td>\n",
       "      <td>25.6</td>\n",
       "      <td>45.0</td>\n",
       "    </tr>\n",
       "    <tr>\n",
       "      <th>4</th>\n",
       "      <td>Eagles</td>\n",
       "      <td>Their Greatest Hits (1971–1975)</td>\n",
       "      <td>1976</td>\n",
       "      <td>Country rock, soft rock, folk rock</td>\n",
       "      <td>41.2</td>\n",
       "      <td>44.0</td>\n",
       "    </tr>\n",
       "    <tr>\n",
       "      <th>5</th>\n",
       "      <td>Eagles</td>\n",
       "      <td>Hotel California</td>\n",
       "      <td>1976</td>\n",
       "      <td>Soft rock</td>\n",
       "      <td>31.8</td>\n",
       "      <td>42.0</td>\n",
       "    </tr>\n",
       "    <tr>\n",
       "      <th>6</th>\n",
       "      <td>Shania Twain</td>\n",
       "      <td>Come On Over</td>\n",
       "      <td>1997</td>\n",
       "      <td>Country, pop</td>\n",
       "      <td>30.7</td>\n",
       "      <td>40.0</td>\n",
       "    </tr>\n",
       "    <tr>\n",
       "      <th>7</th>\n",
       "      <td>Fleetwood Mac</td>\n",
       "      <td>Rumours</td>\n",
       "      <td>1977</td>\n",
       "      <td>Soft rock</td>\n",
       "      <td>30.3</td>\n",
       "      <td>40.0</td>\n",
       "    </tr>\n",
       "    <tr>\n",
       "      <th>8</th>\n",
       "      <td>Meat Loaf</td>\n",
       "      <td>Bat Out of Hell</td>\n",
       "      <td>1977</td>\n",
       "      <td>Hard rock, glam rock, progressive rock</td>\n",
       "      <td>22.0</td>\n",
       "      <td>40.0</td>\n",
       "    </tr>\n",
       "    <tr>\n",
       "      <th>9</th>\n",
       "      <td>Bee Gees / Various artists</td>\n",
       "      <td>Saturday Night Fever</td>\n",
       "      <td>1977</td>\n",
       "      <td>Disco</td>\n",
       "      <td>22.1</td>\n",
       "      <td>40.0</td>\n",
       "    </tr>\n",
       "  </tbody>\n",
       "</table>\n",
       "</div>"
      ],
      "text/plain": [
       "                              Artist                            Album  \\\n",
       "0                    Michael Jackson                         Thriller   \n",
       "1                              AC/DC                    Back in Black   \n",
       "2  Whitney Houston / Various artists                    The Bodyguard   \n",
       "3                         Pink Floyd        The Dark Side of the Moon   \n",
       "4                             Eagles  Their Greatest Hits (1971–1975)   \n",
       "5                             Eagles                 Hotel California   \n",
       "6                       Shania Twain                     Come On Over   \n",
       "7                      Fleetwood Mac                          Rumours   \n",
       "8                          Meat Loaf                  Bat Out of Hell   \n",
       "9         Bee Gees / Various artists             Saturday Night Fever   \n",
       "\n",
       "   Released                                   Genre  Total Certified Copies  \\\n",
       "0      1982             Pop, post-disco, funk, rock                    51.3   \n",
       "1      1980                               Hard rock                    31.2   \n",
       "2      1992              R&B, soul, pop, soundtrack                    29.7   \n",
       "3      1973                        Progressive rock                    25.6   \n",
       "4      1976      Country rock, soft rock, folk rock                    41.2   \n",
       "5      1976                               Soft rock                    31.8   \n",
       "6      1997                            Country, pop                    30.7   \n",
       "7      1977                               Soft rock                    30.3   \n",
       "8      1977  Hard rock, glam rock, progressive rock                    22.0   \n",
       "9      1977                                   Disco                    22.1   \n",
       "\n",
       "   Reported Sales  \n",
       "0            70.0  \n",
       "1            50.0  \n",
       "2            45.0  \n",
       "3            45.0  \n",
       "4            44.0  \n",
       "5            42.0  \n",
       "6            40.0  \n",
       "7            40.0  \n",
       "8            40.0  \n",
       "9            40.0  "
      ]
     },
     "execution_count": 74,
     "metadata": {},
     "output_type": "execute_result"
    }
   ],
   "source": [
    "df.head(10)"
   ]
  },
  {
   "cell_type": "code",
   "execution_count": 75,
   "id": "05b6747c",
   "metadata": {},
   "outputs": [
    {
     "name": "stdout",
     "output_type": "stream",
     "text": [
      "<class 'pandas.core.frame.DataFrame'>\n",
      "Index: 79 entries, 0 to 47\n",
      "Data columns (total 6 columns):\n",
      " #   Column                  Non-Null Count  Dtype  \n",
      "---  ------                  --------------  -----  \n",
      " 0   Artist                  79 non-null     object \n",
      " 1   Album                   79 non-null     object \n",
      " 2   Released                79 non-null     int32  \n",
      " 3   Genre                   79 non-null     object \n",
      " 4   Total Certified Copies  79 non-null     float64\n",
      " 5   Reported Sales          79 non-null     float64\n",
      "dtypes: float64(2), int32(1), object(3)\n",
      "memory usage: 4.0+ KB\n"
     ]
    }
   ],
   "source": [
    "df.info()"
   ]
  },
  {
   "cell_type": "code",
   "execution_count": 76,
   "id": "5023e45e",
   "metadata": {},
   "outputs": [],
   "source": [
    "# Saving as a .csv file\n",
    "df.to_csv('top_albums_web_scraped.csv', index=False)"
   ]
  },
  {
   "cell_type": "code",
   "execution_count": null,
   "id": "cf67d4ce-64bf-4335-a741-fabf1c9b04b6",
   "metadata": {},
   "outputs": [],
   "source": []
  }
 ],
 "metadata": {
  "kernelspec": {
   "display_name": "Python 3 (ipykernel)",
   "language": "python",
   "name": "python3"
  },
  "language_info": {
   "codemirror_mode": {
    "name": "ipython",
    "version": 3
   },
   "file_extension": ".py",
   "mimetype": "text/x-python",
   "name": "python",
   "nbconvert_exporter": "python",
   "pygments_lexer": "ipython3",
   "version": "3.13.3"
  }
 },
 "nbformat": 4,
 "nbformat_minor": 5
}
